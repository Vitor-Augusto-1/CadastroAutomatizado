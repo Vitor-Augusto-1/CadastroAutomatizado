{
 "cells": [
  {
   "cell_type": "markdown",
   "metadata": {},
   "source": [
    "Etapa 1"
   ]
  },
  {
   "cell_type": "markdown",
   "metadata": {},
   "source": [
    "Bibliotecas"
   ]
  },
  {
   "cell_type": "code",
   "execution_count": null,
   "metadata": {},
   "outputs": [],
   "source": [
    "# para baixar as bibliotecas e só usar o pip com exclamação ex: !pip install pyautogui\n",
    "!pip install pyautogui\n",
    "!pip install time \n",
    "!pip install pyperclip\n",
    "\n",
    "import pyautogui as py\n",
    "import time as tm\n",
    "import pyperclip"
   ]
  },
  {
   "cell_type": "markdown",
   "metadata": {},
   "source": [
    "Etapa 2"
   ]
  },
  {
   "cell_type": "markdown",
   "metadata": {},
   "source": [
    "Iniciando a automatização do Cadastro no Facebook"
   ]
  },
  {
   "cell_type": "code",
   "execution_count": null,
   "metadata": {},
   "outputs": [],
   "source": [
    "py.alert(' Lets Go !')\n",
    "py.hotkey('ctrl', 't')\n",
    "tm.sleep(3)\n",
    "py.write('fa')\n",
    "py.press('enter')\n",
    "tm.sleep(5)\n",
    "py.click(979, 540)\n",
    "tm.sleep(2)\n",
    "py.write('Garibaldo')\n",
    "py.press('enter')\n",
    "tm.sleep(2)\n",
    "py.write('Moura')\n",
    "py.press('enter')\n",
    "tm.sleep(3)\n",
    "py.write('o e-mail que ira cadastrar')\n",
    "py.click(635, 362)\n",
    "tm.sleep(2)\n",
    "py.write('aqui repete novamente o e-mail que ira cadastrar')\n",
    "py.press('enter')\n",
    "tm.sleep(2)\n",
    "py.write('g2o123456')\n",
    "py.press('enter')\n",
    "tm.sleep(2)\n",
    "py.write('19')\n",
    "py.click(677, 558)\n",
    "py.click(704, 713)\n",
    "tm.sleep(2)\n",
    "py.click(864, 397)\n",
    "tm.sleep(30)"
   ]
  },
  {
   "cell_type": "markdown",
   "metadata": {},
   "source": [
    "Etapa 3"
   ]
  },
  {
   "cell_type": "markdown",
   "metadata": {},
   "source": [
    "Agora e só fazer a confirmação no E-mail lembrando que e importante criar um email para fazer essa automação\n"
   ]
  },
  {
   "cell_type": "code",
   "execution_count": null,
   "metadata": {},
   "outputs": [],
   "source": [
    "py.hotkey('ctrl', 't')\n",
    "tm.sleep(3)\n",
    "gmail = \"seu link do email\"\n",
    "pyperclip.copy(gmail)py.hotkey('ctrl', 't')\n",
    "gmail = 'https://mail.google.com/mail/u/2/#inbox'\n",
    "pyperclip.copy(gmail)\n",
    "py.hotkey('ctrl', 'v')\n",
    "py.click(697, 447)\n",
    "py.click(433, 632)\n",
    "py.hotkey('ctrl', 'v')\n",
    "py.press('enter')\n",
    "tm.sleep(5)\n",
    "py.click(657, 283)\n",
    "tm.sleep(1)\n",
    "py.click(476, 587)"
   ]
  },
  {
   "cell_type": "code",
   "execution_count": null,
   "metadata": {},
   "outputs": [],
   "source": [
    "tm.sleep(5)\n",
    "py.position()"
   ]
  },
  {
   "cell_type": "markdown",
   "metadata": {},
   "source": [
    "Como e feito para saber a cordenadas do mouse da função py.click()\n",
    "e usado através da bibliotecas tempo em conjunto com o pyautogui\n",
    "tm.sleep() para dar um pausa até vocẽ posicionar o mouse e a outra é py.position()\n",
    "vão te dar as cordenada corretas."
   ]
  }
 ],
 "metadata": {
  "language_info": {
   "name": "python"
  },
  "orig_nbformat": 4
 },
 "nbformat": 4,
 "nbformat_minor": 2
}
